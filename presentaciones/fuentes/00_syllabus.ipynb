{
 "cells": [
  {
   "cell_type": "markdown",
   "metadata": {
    "slideshow": {
     "slide_type": "slide"
    }
   },
   "source": [
    "\n",
    "# Dirigiendo el cambio y la innovación en las TIC: Tendencias\n",
    "\n",
    "## Maestría en Gestión de Innovación de las TIC / MGITIC\n",
    "\n",
    "### Ing. José Luis Chiquete Valdivieso\n",
    "### 2019\n"
   ]
  },
  {
   "cell_type": "markdown",
   "metadata": {
    "slideshow": {
     "slide_type": "slide"
    }
   },
   "source": [
    "# Objetivos de la asignatura."
   ]
  },
  {
   "cell_type": "markdown",
   "metadata": {
    "slideshow": {
     "slide_type": "fragment"
    }
   },
   "source": [
    "* El participante entenderá el papel de la innovación tecnológica en el ámbito mundial, en México y en su propio entorno profesional."
   ]
  },
  {
   "cell_type": "markdown",
   "metadata": {
    "slideshow": {
     "slide_type": "fragment"
    }
   },
   "source": [
    "* El participante descubrirá su rol de liderazgo en un ambiente de innovación tecnológica, así como su potencial para implantar una cultura de innovación en su propio entorno."
   ]
  },
  {
   "cell_type": "markdown",
   "metadata": {
    "slideshow": {
     "slide_type": "fragment"
    }
   },
   "source": [
    "* El participante podra, idear, planear, decidir y comunicar objetivos y estrategias de innovación tecnológica dentro de su organización."
   ]
  },
  {
   "cell_type": "markdown",
   "metadata": {
    "slideshow": {
     "slide_type": "fragment"
    }
   },
   "source": [
    "* El participante desarrollará sus habilidades de pensamiento y  análisis crítico por medio del diálogo en clase, la práctica y la elaboración del proyecto del curso."
   ]
  },
  {
   "cell_type": "markdown",
   "metadata": {
    "slideshow": {
     "slide_type": "slide"
    }
   },
   "source": [
    "# Metodología.\n",
    "\n",
    "Este curso está enfocado en presentar un panorama riguroso y práctico sobre el estado actual de la innovación como un factor de cambio y mejora en las organizaciones."
   ]
  },
  {
   "cell_type": "markdown",
   "metadata": {
    "slideshow": {
     "slide_type": "fragment"
    }
   },
   "source": [
    "\n",
    "* Se abordarán conceptos teóricos mediante las lecturas del cruso y la bibliografía asignada."
   ]
  },
  {
   "cell_type": "markdown",
   "metadata": {
    "slideshow": {
     "slide_type": "fragment"
    }
   },
   "source": [
    "* Se fomentará la discusión en el aula sobre los conceptos aprendidos para estimular el pensamiento crítico del participante."
   ]
  },
  {
   "cell_type": "markdown",
   "metadata": {
    "slideshow": {
     "slide_type": "fragment"
    }
   },
   "source": [
    "* Se estudiarán casos representativos, los cuales serán discutidos, analizados y documentados tanto en el aula como por medio de trabajos fuera de ella."
   ]
  },
  {
   "cell_type": "markdown",
   "metadata": {
    "slideshow": {
     "slide_type": "fragment"
    }
   },
   "source": [
    "* Se asignará una bibliografía específica, la cual será consultada, sintentizada y analizada por el participante como una actividad fuera del aula."
   ]
  },
  {
   "cell_type": "markdown",
   "metadata": {
    "slideshow": {
     "slide_type": "subslide"
    }
   },
   "source": [
    "# Metodología (continuación)."
   ]
  },
  {
   "cell_type": "markdown",
   "metadata": {
    "slideshow": {
     "slide_type": "fragment"
    }
   },
   "source": [
    "* Se asignará una actividades grupal para desarrollar un caso particular, el cual será desarrollado a lo largo de la asignatura, la cual dará por resultado un documento que refleje la aplicación de los conocimientos adquiridos en la asignatura."
   ]
  },
  {
   "cell_type": "markdown",
   "metadata": {
    "slideshow": {
     "slide_type": "fragment"
    }
   },
   "source": [
    "* Se asignará una actividad individual para desarrollar un caso de aplicación en el entorno profesional del participante, rollar un caso particular, el cual será desarrollado a lo largo de la asignatura, la cual dará por resultado un documento que refleje la aplicación de los conocimientos adquiridos en la asignatura."
   ]
  },
  {
   "cell_type": "markdown",
   "metadata": {
    "slideshow": {
     "slide_type": "fragment"
    }
   },
   "source": [
    "* Se realizarán actividades prácticas en el que permitan aplicar a priori los conceptos e ideas presentados."
   ]
  },
  {
   "cell_type": "markdown",
   "metadata": {
    "slideshow": {
     "slide_type": "slide"
    }
   },
   "source": [
    "# Actividades."
   ]
  },
  {
   "cell_type": "markdown",
   "metadata": {
    "slideshow": {
     "slide_type": "subslide"
    }
   },
   "source": [
    "## Dentro del aula.\n",
    "\n",
    "* Lecturas y presentaciones.\n",
    "* Actividades grupales.\n",
    "* Discusión y análisis de casos."
   ]
  },
  {
   "cell_type": "markdown",
   "metadata": {
    "slideshow": {
     "slide_type": "subslide"
    }
   },
   "source": [
    "## Fuera del aula.\n",
    "\n",
    "* Desarrollo del proyecto grupal.\n",
    "* Desarrollo de proyecto personal.\n",
    "* Lectura y análisis de la bibliografía obligatoria."
   ]
  },
  {
   "cell_type": "markdown",
   "metadata": {
    "slideshow": {
     "slide_type": "slide"
    }
   },
   "source": [
    "# Contenido general."
   ]
  },
  {
   "cell_type": "markdown",
   "metadata": {
    "slideshow": {
     "slide_type": "subslide"
    }
   },
   "source": [
    "## I. Dinámicas de la Innovación Tecnológica.\n",
    "\n",
    "* Tecnología e innovación.\n",
    "* Tipos de innovación.\n",
    "* Inteligencia de la innovación.\n",
    "* Selección de proyectos de innovación tecnológica.\n",
    "* Comunicación.\n",
    "* El proceso de innovación."
   ]
  },
  {
   "cell_type": "markdown",
   "metadata": {
    "slideshow": {
     "slide_type": "subslide"
    }
   },
   "source": [
    "## II. Institucionalización de la innovación tecnológica y liderazgo.\n",
    "\n",
    "* Innovación alineada a la organización.\n",
    "* Apropiación tecnológíca.\n",
    "* Colaboración.\n",
    "* Procesos de I+D+I.\n",
    "* Protección de la propiedad industrial.\n",
    "* Monetización.\n",
    "* Innovación en gobierno y ONG."
   ]
  },
  {
   "cell_type": "markdown",
   "metadata": {
    "slideshow": {
     "slide_type": "subslide"
    }
   },
   "source": [
    "### III. Continuidad y sostenibilidad de la innovación tecnológica.\n",
    "\n",
    "* Organizaciones alineadas a la innovación.\n",
    "* Indicadores y prospectivas.\n",
    "* Identificación de tendencias.\n",
    "* Selcción de proyectos a largo plazo.\n",
    "* Control de riesgos.\n",
    "* Responsabilidad social."
   ]
  },
  {
   "cell_type": "markdown",
   "metadata": {
    "slideshow": {
     "slide_type": "slide"
    }
   },
   "source": [
    "# Evaluación."
   ]
  },
  {
   "cell_type": "markdown",
   "metadata": {
    "slideshow": {
     "slide_type": "fragment"
    }
   },
   "source": [
    "* Participación en clase: 20%\n",
    "* Resumenes de la bibliografía obligatoria: 20%\n",
    "* Proyecto en equipo: 30%\n",
    "* Proyecto personal: 30% "
   ]
  },
  {
   "cell_type": "markdown",
   "metadata": {
    "slideshow": {
     "slide_type": "fragment"
    }
   },
   "source": [
    "* Mínimo aprobatorio: 70%\n",
    "La calificación se expesará mediante un número entero de 0 a 10."
   ]
  },
  {
   "cell_type": "markdown",
   "metadata": {
    "slideshow": {
     "slide_type": "slide"
    }
   },
   "source": [
    "# Bibliografía."
   ]
  },
  {
   "cell_type": "markdown",
   "metadata": {
    "slideshow": {
     "slide_type": "subslide"
    }
   },
   "source": [
    "## Lecturas obligatorias.\n",
    "\n",
    "* Solleiro, J. L. y Castañón, R. (2016). Manual de Gestión Tecnológica para PyMES Mexicanas. México: CamBioTec A.C."
   ]
  },
  {
   "cell_type": "markdown",
   "metadata": {
    "slideshow": {
     "slide_type": "subslide"
    }
   },
   "source": [
    "## Lecturas adicionales.\n",
    "\n",
    "* Instituto Mexicano de Normalización y Certificación, A.C. (2007). MNX-GT-001-IMNC-2007 Sistema de Gestión de la Tecnología –Terminología. Ciudad de México: IMNC.\n",
    "* Instituto Mexicano de Normalización y Certificación, A.C. (2008). MNX-GT-003-IMNC-2008 Sistema de Gestión de la Tecnología – Requisitos. Ciudad de México: IMNC.\n",
    "* Instituto Mexicano de Normalización y Certificación, A.C. (2009). MNX-GT-003-IMNC-2008 Sistema de Gestión de la Tecnología – Requisitos. Ciudad de México: IMNC.\n",
    "* Keeley, L., Walters, H., et al. (2013). Ten Types of Innovation: The Discipline of Building Breakthroughs. Hoboken, N.J.: John Wiley & Sons, Inc."
   ]
  },
  {
   "cell_type": "markdown",
   "metadata": {
    "slideshow": {
     "slide_type": "subslide"
    }
   },
   "source": [
    "## Lecturas adicionales (continuación).\n",
    "\n",
    "* Kottler P., Kartajaya, H. y Setiawan, I. (2017).  Marketing 4.0: Moving from Traditional to Digital. Hoboken, N.J.: John Wiley & Sons, Inc.\n",
    "* Christensen, C., Raynor, M. (2003). The Innovator's Solution: Creating and Sustaining Successful Growth. U.S.A.: Harvard Business Review Press.\n",
    "* Morris, L. (2011). The Innovation Master Plan: The Ceo's Guide to Innovation. USA. Innovation Academy.\n",
    "* Ries, A. y Trout, J. (1993). Las 22 Leyes Inmutables Del Marketing. Ciudad de México: McGraw Hill Education.\n",
    "* Christensen, C. (2016). The Innovator's Dilemma: When New Technologies Cause Great Firms to Fail. U.S.A.: Harvard Business Review Press.\n",
    "* Barrow, C. (2001). Incubators: A Realist's Guide to the World's New Business Accelerators. Chichester: John Wiley & Sons, Ltd."
   ]
  },
  {
   "cell_type": "markdown",
   "metadata": {
    "slideshow": {
     "slide_type": "subslide"
    }
   },
   "source": [
    "## Lecturas adicionales (continuación).\n",
    "\n",
    "* Casnocha, B, (2007). My Startup Life: What a (Very) Young CEO Learned on His Journey trough Silicon Valley. San Francisco: Jossey-Bass.\n",
    "* Noveck, B. (2009). Wiki Government: How Technology Can Make Government Better, Democracy Stronger, and Citizens More Powerful. Washington: Brookings Institution Press.\n",
    "* Gunther McGrath, R. MacMillan, I. (2000). The Entrepreneurial Mindset: Strategies for Continuously Creating Opportunity in an Age of Uncertainty. Boston: Harvard Business School Press.\n",
    "* Thompson, A., Strickland III, A., et al. (2018). Administración Estratégica: Teoría y Casos. México: McGraw Hill Education.\n",
    "* Kottler, P. y Armstrong, G. (2017). Fundamentos de Marketing. México: Pearson Educación de México, S.A. de C.V.\n",
    "* Tighe, S. (2019). Rethinking Strategy: How to Anticipate the Future, Slow Down Change, and Improve Decision Making.  Hoboken, N.J.: John Wiley & Sons, Inc."
   ]
  },
  {
   "cell_type": "markdown",
   "metadata": {
    "slideshow": {
     "slide_type": "slide"
    }
   },
   "source": [
    "# Repositorio.\n",
    "\n",
    "Los recursos más actualizados de las lecturas de este curso, incluyendo el código fuente, las presentaciones, así como los demás documentos y archivos están disponibles en:\n",
    "https://github.com/josechval/cambio_e_innovacion_tic"
   ]
  }
 ],
 "metadata": {
  "celltoolbar": "Slideshow",
  "kernelspec": {
   "display_name": "Python 3",
   "language": "python",
   "name": "python3"
  },
  "language_info": {
   "codemirror_mode": {
    "name": "ipython",
    "version": 3
   },
   "file_extension": ".py",
   "mimetype": "text/x-python",
   "name": "python",
   "nbconvert_exporter": "python",
   "pygments_lexer": "ipython3",
   "version": "3.6.5"
  }
 },
 "nbformat": 4,
 "nbformat_minor": 2
}
