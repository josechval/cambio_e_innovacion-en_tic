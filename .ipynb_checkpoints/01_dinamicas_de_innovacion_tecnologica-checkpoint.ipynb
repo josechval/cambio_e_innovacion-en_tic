{
 "cells": [
  {
   "cell_type": "markdown",
   "metadata": {
    "slideshow": {
     "slide_type": "slide"
    }
   },
   "source": [
    "# I. Dinámicas de innovación tecnológica."
   ]
  },
  {
   "cell_type": "markdown",
   "metadata": {
    "slideshow": {
     "slide_type": "slide"
    }
   },
   "source": [
    "# Objetivo de la sección.\n",
    "\n",
    "Al final de esta sección el participante podrá:"
   ]
  },
  {
   "cell_type": "markdown",
   "metadata": {
    "slideshow": {
     "slide_type": "fragment"
    }
   },
   "source": [
    "* Conocer los conceptos básicos acerca de tecnología, innovación y creatividad."
   ]
  },
  {
   "cell_type": "markdown",
   "metadata": {
    "slideshow": {
     "slide_type": "fragment"
    }
   },
   "source": [
    "* Identificar los tipos de innovación que existen."
   ]
  },
  {
   "cell_type": "markdown",
   "metadata": {
    "slideshow": {
     "slide_type": "fragment"
    }
   },
   "source": [
    "* Reconoceer el papel primordial del conocimiento ante la innovación tecnológica."
   ]
  },
  {
   "cell_type": "markdown",
   "metadata": {
    "slideshow": {
     "slide_type": "fragment"
    }
   },
   "source": [
    "* Formar criterios para priorizar proyectos de innovación."
   ]
  },
  {
   "cell_type": "markdown",
   "metadata": {
    "slideshow": {
     "slide_type": "fragment"
    }
   },
   "source": [
    "\n",
    "* Entender el reto de comunicar efectivamente una propuesta de innovación."
   ]
  },
  {
   "cell_type": "markdown",
   "metadata": {
    "slideshow": {
     "slide_type": "fragment"
    }
   },
   "source": [
    "* Conocer los componentes del proceso de innovación."
   ]
  },
  {
   "cell_type": "markdown",
   "metadata": {
    "slideshow": {
     "slide_type": "slide"
    }
   },
   "source": [
    "# Definiciones preliminares."
   ]
  },
  {
   "cell_type": "markdown",
   "metadata": {
    "slideshow": {
     "slide_type": "subslide"
    }
   },
   "source": [
    "## Tecnología.\n",
    "\n",
    "### \"*Grado de obtención del valor potencial de un recurso, mediante conocimientos y habilidades relativas al saber hacer y su combinación con recursos materiales, de manera sistemática, repetible y reproducible.*\"\n",
    "\n",
    "#### NMX-GT-001-IMNC-2007"
   ]
  },
  {
   "cell_type": "markdown",
   "metadata": {
    "slideshow": {
     "slide_type": "subslide"
    }
   },
   "source": [
    "## Innovación.\n",
    "\n",
    "### \"*Proceso dirigido a un mercado bajo un enfoque de negocio que detecta oportunidades y capacidades organizacionales para generar productos, procesos y servicios, novedosos aceptados por los consumidores.*\"\n",
    "\n",
    "#### NMX-GT-001-IMNC-2007"
   ]
  },
  {
   "cell_type": "markdown",
   "metadata": {
    "slideshow": {
     "slide_type": "subslide"
    }
   },
   "source": [
    "## Innovación tecnológica.\n",
    "\n",
    "### \"*proceso que conjuga una oportunidad de mercado con una necesidad y/o una invención tecnológica, que tiene por objetivo la producción, comercialización y explotación de un nuevo proceso, producto, actividad comercial, modelo de negocio, modelo de logística o servicio al cliente.* \"\n",
    "\n",
    "#### NMX-GT-001-IMNC-2007"
   ]
  },
  {
   "cell_type": "markdown",
   "metadata": {
    "slideshow": {
     "slide_type": "slide"
    }
   },
   "source": [
    "# Aclaraciones."
   ]
  },
  {
   "cell_type": "markdown",
   "metadata": {
    "slideshow": {
     "slide_type": "fragment"
    }
   },
   "source": [
    "* Ciencia y tecnología NO son los mismo."
   ]
  },
  {
   "cell_type": "markdown",
   "metadata": {
    "slideshow": {
     "slide_type": "fragment"
    }
   },
   "source": [
    "* Creatividad e innovación NO son lo mismo."
   ]
  },
  {
   "cell_type": "markdown",
   "metadata": {
    "slideshow": {
     "slide_type": "fragment"
    }
   },
   "source": [
    "* Los conceptos también aplican a gobiernos y ONG."
   ]
  },
  {
   "cell_type": "markdown",
   "metadata": {
    "slideshow": {
     "slide_type": "slide"
    }
   },
   "source": [
    "# Fuerzas que impulsan a la innovación."
   ]
  },
  {
   "cell_type": "markdown",
   "metadata": {
    "slideshow": {
     "slide_type": "fragment"
    }
   },
   "source": [
    "* \"Commoditization\"."
   ]
  },
  {
   "cell_type": "markdown",
   "metadata": {
    "slideshow": {
     "slide_type": "fragment"
    }
   },
   "source": [
    "* La revolución digital."
   ]
  },
  {
   "cell_type": "markdown",
   "metadata": {
    "slideshow": {
     "slide_type": "fragment"
    }
   },
   "source": [
    "* Los medios sociales."
   ]
  },
  {
   "cell_type": "markdown",
   "metadata": {
    "slideshow": {
     "slide_type": "fragment"
    }
   },
   "source": [
    "* Globalización."
   ]
  },
  {
   "cell_type": "markdown",
   "metadata": {
    "slideshow": {
     "slide_type": "fragment"
    }
   },
   "source": [
    "* La creciente turbulencia del entorno mundial."
   ]
  },
  {
   "cell_type": "markdown",
   "metadata": {
    "slideshow": {
     "slide_type": "fragment"
    }
   },
   "source": [
    "* Aceleración."
   ]
  },
  {
   "cell_type": "markdown",
   "metadata": {
    "slideshow": {
     "slide_type": "subslide"
    }
   },
   "source": [
    "**Fuente:** \n",
    "\n",
    "Morris, L. (2011). The Innovation Master Plan: The Ceo's Guide to Innovation. USA. Innovation Academy.\n",
    "\n",
    "https://innovationmanagement.se/wp-content/uploads/2011/08/Innovation-Master-Plan_Chapter-2.pdf"
   ]
  },
  {
   "cell_type": "markdown",
   "metadata": {
    "slideshow": {
     "slide_type": "subslide"
    }
   },
   "source": [
    "## Actividad en el aula (i).\n",
    "\n",
    "* Identifique aquellos factores que impulcen la innovación en su organización y clasifíquelos conforme al listado previo.\n",
    "* ¿Hay algún factor que no pueda ser catalogado correctamente?"
   ]
  },
  {
   "cell_type": "markdown",
   "metadata": {
    "slideshow": {
     "slide_type": "slide"
    }
   },
   "source": [
    "# Tipos de innovación."
   ]
  },
  {
   "cell_type": "markdown",
   "metadata": {
    "slideshow": {
     "slide_type": "fragment"
    }
   },
   "source": [
    "* Modelo de utilidad."
   ]
  },
  {
   "cell_type": "markdown",
   "metadata": {
    "slideshow": {
     "slide_type": "fragment"
    }
   },
   "source": [
    "* Conexiones y contactos (network)."
   ]
  },
  {
   "cell_type": "markdown",
   "metadata": {
    "slideshow": {
     "slide_type": "fragment"
    }
   },
   "source": [
    "* Estructura de la organización."
   ]
  },
  {
   "cell_type": "markdown",
   "metadata": {
    "slideshow": {
     "slide_type": "fragment"
    }
   },
   "source": [
    "* Procesos."
   ]
  },
  {
   "cell_type": "markdown",
   "metadata": {
    "slideshow": {
     "slide_type": "fragment"
    }
   },
   "source": [
    "* Rendimiento del producto."
   ]
  },
  {
   "cell_type": "markdown",
   "metadata": {
    "slideshow": {
     "slide_type": "subslide"
    }
   },
   "source": [
    "# Tipos de innovación (continuación)."
   ]
  },
  {
   "cell_type": "markdown",
   "metadata": {
    "slideshow": {
     "slide_type": "fragment"
    }
   },
   "source": [
    "* Sistema de producción."
   ]
  },
  {
   "cell_type": "markdown",
   "metadata": {
    "slideshow": {
     "slide_type": "fragment"
    }
   },
   "source": [
    "* Servicios."
   ]
  },
  {
   "cell_type": "markdown",
   "metadata": {
    "slideshow": {
     "slide_type": "fragment"
    }
   },
   "source": [
    "* Canales."
   ]
  },
  {
   "cell_type": "markdown",
   "metadata": {
    "slideshow": {
     "slide_type": "fragment"
    }
   },
   "source": [
    "* Marca."
   ]
  },
  {
   "cell_type": "markdown",
   "metadata": {
    "slideshow": {
     "slide_type": "fragment"
    }
   },
   "source": [
    "* Compromiso con el cliente."
   ]
  },
  {
   "cell_type": "markdown",
   "metadata": {
    "slideshow": {
     "slide_type": "subslide"
    }
   },
   "source": [
    "**Fuente:**\n",
    "\n",
    "Keeley, L., Walters, H., et al. (2013). Ten Types of Innovation: The Discipline of Building Breakthroughs. Hoboken, N.J.: John Wiley & Sons, Inc.\n",
    "\n",
    "https://www.doblin.com/ten-types"
   ]
  },
  {
   "cell_type": "markdown",
   "metadata": {
    "slideshow": {
     "slide_type": "subslide"
    }
   },
   "source": [
    "## Actividad en el aula (ii).\n",
    "\n",
    "A partir de la hoja de cálculo ***matriz_de_tipos_de_innovacion.ods*** realice lo siguiente:\n",
    "\n",
    "* Identifique una empresa, producto o servicio sobre el que se pueda innovar.\n",
    "* Realice 5 propuestas de innovación y cambie el color de la celda dentro de la matriz en la columna correspondiente al tipo de innovación de la que se trate."
   ]
  },
  {
   "cell_type": "markdown",
   "metadata": {
    "slideshow": {
     "slide_type": "slide"
    }
   },
   "source": [
    "# Inteligencia de innovación.\n",
    "\n",
    "La toma de decisiones no puede basarse en adivinación ni en \"corazonadas\", y aún cuando ciertos líderes cuentan con una gran sensibilidad e intuición, esto no es suficiente para justificar el despliegue de estrategias a largo plazo. \n",
    "\n",
    "Las decisiones en materia de innovación deben de estar respaldadas por datos que definan y delimiten aspectos críticos de la organización."
   ]
  },
  {
   "cell_type": "markdown",
   "metadata": {
    "slideshow": {
     "slide_type": "subslide"
    }
   },
   "source": [
    "## Las iniciativas de innovación implican:"
   ]
  },
  {
   "cell_type": "markdown",
   "metadata": {
    "slideshow": {
     "slide_type": "fragment"
    }
   },
   "source": [
    "* Conocimiento del negocio."
   ]
  },
  {
   "cell_type": "markdown",
   "metadata": {
    "slideshow": {
     "slide_type": "fragment"
    }
   },
   "source": [
    "* Conocimiento de los procesos."
   ]
  },
  {
   "cell_type": "markdown",
   "metadata": {
    "slideshow": {
     "slide_type": "fragment"
    }
   },
   "source": [
    "* Conocimiento del mercado."
   ]
  },
  {
   "cell_type": "markdown",
   "metadata": {
    "slideshow": {
     "slide_type": "subslide"
    }
   },
   "source": [
    "## Información para decidir.\n",
    "\n",
    "En cualquier nivel, el uso de información veraz, completa y oportuna permite tomar decisiones razonadas.\n",
    "\n",
    "Incluso, con suficiente información histórica, es posible realizar prediccones por medio de técnicas estadísiticas y de analisis de datos."
   ]
  },
  {
   "cell_type": "markdown",
   "metadata": {
    "slideshow": {
     "slide_type": "subslide"
    }
   },
   "source": [
    "## Datos -> Información -> Conocimiento.\n",
    "\n",
    "La innovación tecnológica carecería de sentido si no se contara con información que la respaldara. Los datos, la información y el conocimiento son tema central de esta asignatura."
   ]
  },
  {
   "cell_type": "markdown",
   "metadata": {
    "slideshow": {
     "slide_type": "fragment"
    }
   },
   "source": [
    "### El conocimiento de la organización.\n",
    "\n",
    "La experiencia de las personas dentro de una organización es la más pura, pero a la vez la más escurridiza, fuente de conocimientos. Es común que existan personas con conocimientos claves en las organizaciones, pero la fragilidad de la permanencia de este conocimiento es un constante riesgo que debe ser mitigado mediante la creación de bases de conocimiento y la comunicación. "
   ]
  },
  {
   "cell_type": "markdown",
   "metadata": {
    "slideshow": {
     "slide_type": "fragment"
    }
   },
   "source": [
    "### El oceáno de datos.\n",
    "\n",
    "En el otro extremo se encuentran los datos del negocio, de los procesos y de los mercados. Cualquier fenómeno o actividad que se pueda medir o incluso percibir es susceptible de convertirse en un dato y estos datos deben de ser procesados y analizados para poder ser útiles."
   ]
  },
  {
   "cell_type": "markdown",
   "metadata": {
    "slideshow": {
     "slide_type": "subslide"
    }
   },
   "source": [
    "# Actividad en el aula (iii).\n",
    "\n",
    "* Identifique al menos 5 fuentes de datos internos o externos dentro de su organización.\n",
    "* Indique si esa información pertenece al negocio, a los procesos o al mercado de la organización.\n",
    "* Diga cómo podría aprovechar esos datos.\n",
    "* Identifique a 2 personas en su organización que tengan conocimientos clave y cómo podría lograr que estas personas los compartieran con la organización.\n",
    "* Enumere las herramientas que conozca para obtener, almacenar, procesar, analizar y comunicar datos."
   ]
  },
  {
   "cell_type": "markdown",
   "metadata": {
    "slideshow": {
     "slide_type": "slide"
    }
   },
   "source": [
    "# Selección de proyectos de innovación.\n",
    "\n",
    "La innovación consume diversos tipos de recursos tanto  de las personas y como de las organizaciones. \n",
    "Poder decidir (apostar) entre todas las opciones por aquellas que logren un equilibrio entre su impacto y su costo es tan importante como las ideas mismas."
   ]
  },
  {
   "cell_type": "markdown",
   "metadata": {
    "slideshow": {
     "slide_type": "subslide"
    }
   },
   "source": [
    "## Innovación estratégica."
   ]
  },
  {
   "cell_type": "markdown",
   "metadata": {
    "slideshow": {
     "slide_type": "subslide"
    }
   },
   "source": [
    "## Innovación pura."
   ]
  },
  {
   "cell_type": "markdown",
   "metadata": {
    "slideshow": {
     "slide_type": "subslide"
    }
   },
   "source": [
    "## Catálogo de proyectos de innovación."
   ]
  },
  {
   "cell_type": "markdown",
   "metadata": {
    "slideshow": {
     "slide_type": "subslide"
    }
   },
   "source": [
    "## Actividad en el aula (iv)."
   ]
  },
  {
   "cell_type": "markdown",
   "metadata": {
    "slideshow": {
     "slide_type": "slide"
    }
   },
   "source": [
    "# Comunicación con los implicados e interesados (stakeholders)."
   ]
  },
  {
   "cell_type": "markdown",
   "metadata": {
    "slideshow": {
     "slide_type": "subslide"
    }
   },
   "source": [
    "Técnicas de comunicación."
   ]
  },
  {
   "cell_type": "markdown",
   "metadata": {
    "slideshow": {
     "slide_type": "subslide"
    }
   },
   "source": [
    "## Actividad en el aula (v)."
   ]
  },
  {
   "cell_type": "markdown",
   "metadata": {
    "slideshow": {
     "slide_type": "slide"
    }
   },
   "source": [
    "# El proceso de innovación tecnológica."
   ]
  },
  {
   "cell_type": "markdown",
   "metadata": {
    "slideshow": {
     "slide_type": "subslide"
    }
   },
   "source": []
  },
  {
   "cell_type": "markdown",
   "metadata": {
    "slideshow": {
     "slide_type": "subslide"
    }
   },
   "source": [
    "## Actividad en el aula (vi)"
   ]
  },
  {
   "cell_type": "markdown",
   "metadata": {
    "slideshow": {
     "slide_type": "slide"
    }
   },
   "source": [
    "# Proyecto en equipo."
   ]
  },
  {
   "cell_type": "markdown",
   "metadata": {
    "slideshow": {
     "slide_type": "slide"
    }
   },
   "source": [
    "# Proyecto personal."
   ]
  }
 ],
 "metadata": {
  "celltoolbar": "Slideshow",
  "kernelspec": {
   "display_name": "Python 3",
   "language": "python",
   "name": "python3"
  },
  "language_info": {
   "codemirror_mode": {
    "name": "ipython",
    "version": 3
   },
   "file_extension": ".py",
   "mimetype": "text/x-python",
   "name": "python",
   "nbconvert_exporter": "python",
   "pygments_lexer": "ipython3",
   "version": "3.6.7"
  }
 },
 "nbformat": 4,
 "nbformat_minor": 2
}
